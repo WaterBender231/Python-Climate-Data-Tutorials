{
 "cells": [
  {
   "cell_type": "markdown",
   "metadata": {},
   "source": [
    "# How to Download Data from DWD (German Weather Service) using Wget (on Windows)"
   ]
  },
  {
   "cell_type": "markdown",
   "metadata": {},
   "source": [
    "You can also download specific files or types of files by customizing the Wget command.  "
   ]
  },
  {
   "cell_type": "code",
   "execution_count": null,
   "metadata": {
    "vscode": {
     "languageId": "plaintext"
    }
   },
   "outputs": [],
   "source": [
    "## Data Download\n",
    "\n",
    "Automating the data download involves using wget, a command-line utility.\n",
    "\n",
    "\n",
    "**For Windows Users**\n",
    "\n",
    "1. Download and Install Wget on Windows\n",
    "    1. Download wget for Windows and install the package: https://eternallybored.org/misc/wget/\n",
    "    2. Copy the wget.exe file into your C:\\Windows\\System32 folder.\n",
    "    3. Open the command prompt (cmd.exe) and run wget to see if it is installed.\n",
    "\n",
    "\n",
    "**For macOS Users**\n",
    "\n",
    "1. If you are using Mac OS, you can use brew (recommended method) to install wget. (Install brew if you have not installed it yet)\n",
    "\n",
    "`brew install wget`\n",
    "\n",
    "\n",
    "**Next Steps for Windows and macOS**\n",
    "\n",
    "2. Open the command prompt (cmd for Windows or Terminal for macOS)\n",
    "3. Use cd to navigate to the folder where you want to save your data\n",
    "\n",
    "4. To download ALL files in a ftp do:\n",
    "    `wget -r -np -R \"index.html*\" \"link/to/folder\"`\n",
    "    \n",
    "    For instance, to download the annual gridded average temperature data from the DWD for Germany, try:\n",
    "    `wget -r -np -R \"index.html*\" \"https://opendata.dwd.de/climate_environment/CDC/grids_germany/annual/air_temperature_mean/\"`\n",
    "\n",
    "5. *Additional Information*\n",
    "`wget --help`\n",
    "    = Print a help message describing all of Wget's command-line options\n",
    "    alternatively, google for the Documentation\n",
    "    you can also download single files or specific files only with wget"
   ]
  },
  {
   "cell_type": "code",
   "execution_count": null,
   "metadata": {
    "vscode": {
     "languageId": "plaintext"
    }
   },
   "outputs": [],
   "source": []
  }
 ],
 "metadata": {
  "language_info": {
   "name": "python"
  }
 },
 "nbformat": 4,
 "nbformat_minor": 2
}
